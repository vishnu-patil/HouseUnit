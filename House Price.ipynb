{
 "cells": [
  {
   "cell_type": "markdown",
   "id": "2ab972fc",
   "metadata": {},
   "source": [
    "# Importing Libraries:"
   ]
  },
  {
   "cell_type": "code",
   "execution_count": 51,
   "id": "2d157161",
   "metadata": {},
   "outputs": [],
   "source": [
    "import pandas as pd\n",
    "import numpy as np\n",
    "import matplotlib.pyplot as plt\n",
    "import seaborn as sns\n",
    "\n",
    "from statsmodels.stats.outliers_influence import variance_inflation_factor\n",
    "from sklearn.preprocessing import MinMaxScaler, StandardScaler\n",
    "from sklearn.model_selection import train_test_split,GridSearchCV\n",
    "from sklearn.linear_model import LinearRegression\n",
    "from sklearn.neighbors import KNeighborsRegressor\n",
    "from sklearn.metrics import mean_squared_error,mean_absolute_error, r2_score\n",
    "\n",
    "from scipy.stats import boxcox"
   ]
  },
  {
   "cell_type": "markdown",
   "id": "812937bb",
   "metadata": {},
   "source": [
    "# 1] Problem Statement:"
   ]
  },
  {
   "cell_type": "raw",
   "id": "d4c7241d",
   "metadata": {},
   "source": [
    "-> Predicting the house price in unit area on the past data."
   ]
  },
  {
   "cell_type": "markdown",
   "id": "27441ed6",
   "metadata": {},
   "source": [
    "# 2] Data Gathering:"
   ]
  },
  {
   "cell_type": "code",
   "execution_count": 3,
   "id": "c6a4b68b",
   "metadata": {},
   "outputs": [
    {
     "data": {
      "text/html": [
       "<div>\n",
       "<style scoped>\n",
       "    .dataframe tbody tr th:only-of-type {\n",
       "        vertical-align: middle;\n",
       "    }\n",
       "\n",
       "    .dataframe tbody tr th {\n",
       "        vertical-align: top;\n",
       "    }\n",
       "\n",
       "    .dataframe thead th {\n",
       "        text-align: right;\n",
       "    }\n",
       "</style>\n",
       "<table border=\"1\" class=\"dataframe\">\n",
       "  <thead>\n",
       "    <tr style=\"text-align: right;\">\n",
       "      <th></th>\n",
       "      <th>No</th>\n",
       "      <th>X1 transaction date</th>\n",
       "      <th>X2 house age</th>\n",
       "      <th>X3 distance to the nearest MRT station</th>\n",
       "      <th>X4 number of convenience stores</th>\n",
       "      <th>X5 latitude</th>\n",
       "      <th>X6 longitude</th>\n",
       "      <th>Y house price of unit area</th>\n",
       "    </tr>\n",
       "  </thead>\n",
       "  <tbody>\n",
       "    <tr>\n",
       "      <th>0</th>\n",
       "      <td>1</td>\n",
       "      <td>2012.917</td>\n",
       "      <td>32.0</td>\n",
       "      <td>84.87882</td>\n",
       "      <td>10</td>\n",
       "      <td>24.98298</td>\n",
       "      <td>121.54024</td>\n",
       "      <td>37.9</td>\n",
       "    </tr>\n",
       "    <tr>\n",
       "      <th>1</th>\n",
       "      <td>2</td>\n",
       "      <td>2012.917</td>\n",
       "      <td>19.5</td>\n",
       "      <td>306.59470</td>\n",
       "      <td>9</td>\n",
       "      <td>24.98034</td>\n",
       "      <td>121.53951</td>\n",
       "      <td>42.2</td>\n",
       "    </tr>\n",
       "    <tr>\n",
       "      <th>2</th>\n",
       "      <td>3</td>\n",
       "      <td>2013.583</td>\n",
       "      <td>13.3</td>\n",
       "      <td>561.98450</td>\n",
       "      <td>5</td>\n",
       "      <td>24.98746</td>\n",
       "      <td>121.54391</td>\n",
       "      <td>47.3</td>\n",
       "    </tr>\n",
       "    <tr>\n",
       "      <th>3</th>\n",
       "      <td>4</td>\n",
       "      <td>2013.500</td>\n",
       "      <td>13.3</td>\n",
       "      <td>561.98450</td>\n",
       "      <td>5</td>\n",
       "      <td>24.98746</td>\n",
       "      <td>121.54391</td>\n",
       "      <td>54.8</td>\n",
       "    </tr>\n",
       "    <tr>\n",
       "      <th>4</th>\n",
       "      <td>5</td>\n",
       "      <td>2012.833</td>\n",
       "      <td>5.0</td>\n",
       "      <td>390.56840</td>\n",
       "      <td>5</td>\n",
       "      <td>24.97937</td>\n",
       "      <td>121.54245</td>\n",
       "      <td>43.1</td>\n",
       "    </tr>\n",
       "    <tr>\n",
       "      <th>...</th>\n",
       "      <td>...</td>\n",
       "      <td>...</td>\n",
       "      <td>...</td>\n",
       "      <td>...</td>\n",
       "      <td>...</td>\n",
       "      <td>...</td>\n",
       "      <td>...</td>\n",
       "      <td>...</td>\n",
       "    </tr>\n",
       "    <tr>\n",
       "      <th>409</th>\n",
       "      <td>410</td>\n",
       "      <td>2013.000</td>\n",
       "      <td>13.7</td>\n",
       "      <td>4082.01500</td>\n",
       "      <td>0</td>\n",
       "      <td>24.94155</td>\n",
       "      <td>121.50381</td>\n",
       "      <td>15.4</td>\n",
       "    </tr>\n",
       "    <tr>\n",
       "      <th>410</th>\n",
       "      <td>411</td>\n",
       "      <td>2012.667</td>\n",
       "      <td>5.6</td>\n",
       "      <td>90.45606</td>\n",
       "      <td>9</td>\n",
       "      <td>24.97433</td>\n",
       "      <td>121.54310</td>\n",
       "      <td>50.0</td>\n",
       "    </tr>\n",
       "    <tr>\n",
       "      <th>411</th>\n",
       "      <td>412</td>\n",
       "      <td>2013.250</td>\n",
       "      <td>18.8</td>\n",
       "      <td>390.96960</td>\n",
       "      <td>7</td>\n",
       "      <td>24.97923</td>\n",
       "      <td>121.53986</td>\n",
       "      <td>40.6</td>\n",
       "    </tr>\n",
       "    <tr>\n",
       "      <th>412</th>\n",
       "      <td>413</td>\n",
       "      <td>2013.000</td>\n",
       "      <td>8.1</td>\n",
       "      <td>104.81010</td>\n",
       "      <td>5</td>\n",
       "      <td>24.96674</td>\n",
       "      <td>121.54067</td>\n",
       "      <td>52.5</td>\n",
       "    </tr>\n",
       "    <tr>\n",
       "      <th>413</th>\n",
       "      <td>414</td>\n",
       "      <td>2013.500</td>\n",
       "      <td>6.5</td>\n",
       "      <td>90.45606</td>\n",
       "      <td>9</td>\n",
       "      <td>24.97433</td>\n",
       "      <td>121.54310</td>\n",
       "      <td>63.9</td>\n",
       "    </tr>\n",
       "  </tbody>\n",
       "</table>\n",
       "<p>414 rows × 8 columns</p>\n",
       "</div>"
      ],
      "text/plain": [
       "      No  X1 transaction date  X2 house age  \\\n",
       "0      1             2012.917          32.0   \n",
       "1      2             2012.917          19.5   \n",
       "2      3             2013.583          13.3   \n",
       "3      4             2013.500          13.3   \n",
       "4      5             2012.833           5.0   \n",
       "..   ...                  ...           ...   \n",
       "409  410             2013.000          13.7   \n",
       "410  411             2012.667           5.6   \n",
       "411  412             2013.250          18.8   \n",
       "412  413             2013.000           8.1   \n",
       "413  414             2013.500           6.5   \n",
       "\n",
       "     X3 distance to the nearest MRT station  X4 number of convenience stores  \\\n",
       "0                                  84.87882                               10   \n",
       "1                                 306.59470                                9   \n",
       "2                                 561.98450                                5   \n",
       "3                                 561.98450                                5   \n",
       "4                                 390.56840                                5   \n",
       "..                                      ...                              ...   \n",
       "409                              4082.01500                                0   \n",
       "410                                90.45606                                9   \n",
       "411                               390.96960                                7   \n",
       "412                               104.81010                                5   \n",
       "413                                90.45606                                9   \n",
       "\n",
       "     X5 latitude  X6 longitude  Y house price of unit area  \n",
       "0       24.98298     121.54024                        37.9  \n",
       "1       24.98034     121.53951                        42.2  \n",
       "2       24.98746     121.54391                        47.3  \n",
       "3       24.98746     121.54391                        54.8  \n",
       "4       24.97937     121.54245                        43.1  \n",
       "..           ...           ...                         ...  \n",
       "409     24.94155     121.50381                        15.4  \n",
       "410     24.97433     121.54310                        50.0  \n",
       "411     24.97923     121.53986                        40.6  \n",
       "412     24.96674     121.54067                        52.5  \n",
       "413     24.97433     121.54310                        63.9  \n",
       "\n",
       "[414 rows x 8 columns]"
      ]
     },
     "execution_count": 3,
     "metadata": {},
     "output_type": "execute_result"
    }
   ],
   "source": [
    "df = pd.read_csv(r\"E:\\DataScience_Notes06_06_022\\DataSets\\Real estate.csv\")\n",
    "df"
   ]
  },
  {
   "cell_type": "markdown",
   "id": "3d82184a",
   "metadata": {},
   "source": [
    "# 3,4] EDA,Feature Engg.:"
   ]
  },
  {
   "cell_type": "markdown",
   "id": "9b6444ea",
   "metadata": {},
   "source": [
    "##### Handling Missing Values:"
   ]
  },
  {
   "cell_type": "code",
   "execution_count": 4,
   "id": "7d059c89",
   "metadata": {
    "scrolled": true
   },
   "outputs": [
    {
     "name": "stdout",
     "output_type": "stream",
     "text": [
      "<class 'pandas.core.frame.DataFrame'>\n",
      "RangeIndex: 414 entries, 0 to 413\n",
      "Data columns (total 8 columns):\n",
      " #   Column                                  Non-Null Count  Dtype  \n",
      "---  ------                                  --------------  -----  \n",
      " 0   No                                      414 non-null    int64  \n",
      " 1   X1 transaction date                     414 non-null    float64\n",
      " 2   X2 house age                            414 non-null    float64\n",
      " 3   X3 distance to the nearest MRT station  414 non-null    float64\n",
      " 4   X4 number of convenience stores         414 non-null    int64  \n",
      " 5   X5 latitude                             414 non-null    float64\n",
      " 6   X6 longitude                            414 non-null    float64\n",
      " 7   Y house price of unit area              414 non-null    float64\n",
      "dtypes: float64(6), int64(2)\n",
      "memory usage: 26.0 KB\n"
     ]
    }
   ],
   "source": [
    "df.info()"
   ]
  },
  {
   "cell_type": "raw",
   "id": "54cf8e02",
   "metadata": {},
   "source": [
    "Observation:\n",
    "    -> There is no missing values in given dataset.\n",
    "    -> The datatype of each feature is numeric."
   ]
  },
  {
   "cell_type": "code",
   "execution_count": 5,
   "id": "ca125bdd",
   "metadata": {},
   "outputs": [],
   "source": [
    "df.drop('No',axis=1,inplace=True)"
   ]
  },
  {
   "cell_type": "code",
   "execution_count": 6,
   "id": "2e6bed8e",
   "metadata": {},
   "outputs": [],
   "source": [
    "col = df.columns.tolist()"
   ]
  },
  {
   "cell_type": "code",
   "execution_count": 7,
   "id": "e7dc396a",
   "metadata": {},
   "outputs": [
    {
     "data": {
      "text/plain": [
       "['transaction_date',\n",
       " 'house_age',\n",
       " 'distance_to_the_nearest_MRT_station',\n",
       " 'number_of_convenience_stores',\n",
       " 'latitude',\n",
       " 'longitude',\n",
       " 'house_price_of_unit_area']"
      ]
     },
     "execution_count": 7,
     "metadata": {},
     "output_type": "execute_result"
    }
   ],
   "source": [
    "col_list = []\n",
    "for i in col:\n",
    "    data = i.split(\" \",1)\n",
    "    join = data[1].replace(\" \",\"_\")\n",
    "    col_list.append(join)\n",
    "col_list    "
   ]
  },
  {
   "cell_type": "code",
   "execution_count": 8,
   "id": "730dccbb",
   "metadata": {},
   "outputs": [],
   "source": [
    "new_df = df.copy()"
   ]
  },
  {
   "cell_type": "code",
   "execution_count": 9,
   "id": "e5e24f88",
   "metadata": {},
   "outputs": [],
   "source": [
    "new_df.columns=col_list"
   ]
  },
  {
   "cell_type": "code",
   "execution_count": 10,
   "id": "2c44df0c",
   "metadata": {},
   "outputs": [
    {
     "data": {
      "text/html": [
       "<div>\n",
       "<style scoped>\n",
       "    .dataframe tbody tr th:only-of-type {\n",
       "        vertical-align: middle;\n",
       "    }\n",
       "\n",
       "    .dataframe tbody tr th {\n",
       "        vertical-align: top;\n",
       "    }\n",
       "\n",
       "    .dataframe thead th {\n",
       "        text-align: right;\n",
       "    }\n",
       "</style>\n",
       "<table border=\"1\" class=\"dataframe\">\n",
       "  <thead>\n",
       "    <tr style=\"text-align: right;\">\n",
       "      <th></th>\n",
       "      <th>transaction_date</th>\n",
       "      <th>house_age</th>\n",
       "      <th>distance_to_the_nearest_MRT_station</th>\n",
       "      <th>number_of_convenience_stores</th>\n",
       "      <th>latitude</th>\n",
       "      <th>longitude</th>\n",
       "      <th>house_price_of_unit_area</th>\n",
       "    </tr>\n",
       "  </thead>\n",
       "  <tbody>\n",
       "    <tr>\n",
       "      <th>0</th>\n",
       "      <td>2012.917</td>\n",
       "      <td>32.0</td>\n",
       "      <td>84.87882</td>\n",
       "      <td>10</td>\n",
       "      <td>24.98298</td>\n",
       "      <td>121.54024</td>\n",
       "      <td>37.9</td>\n",
       "    </tr>\n",
       "    <tr>\n",
       "      <th>1</th>\n",
       "      <td>2012.917</td>\n",
       "      <td>19.5</td>\n",
       "      <td>306.59470</td>\n",
       "      <td>9</td>\n",
       "      <td>24.98034</td>\n",
       "      <td>121.53951</td>\n",
       "      <td>42.2</td>\n",
       "    </tr>\n",
       "    <tr>\n",
       "      <th>2</th>\n",
       "      <td>2013.583</td>\n",
       "      <td>13.3</td>\n",
       "      <td>561.98450</td>\n",
       "      <td>5</td>\n",
       "      <td>24.98746</td>\n",
       "      <td>121.54391</td>\n",
       "      <td>47.3</td>\n",
       "    </tr>\n",
       "    <tr>\n",
       "      <th>3</th>\n",
       "      <td>2013.500</td>\n",
       "      <td>13.3</td>\n",
       "      <td>561.98450</td>\n",
       "      <td>5</td>\n",
       "      <td>24.98746</td>\n",
       "      <td>121.54391</td>\n",
       "      <td>54.8</td>\n",
       "    </tr>\n",
       "    <tr>\n",
       "      <th>4</th>\n",
       "      <td>2012.833</td>\n",
       "      <td>5.0</td>\n",
       "      <td>390.56840</td>\n",
       "      <td>5</td>\n",
       "      <td>24.97937</td>\n",
       "      <td>121.54245</td>\n",
       "      <td>43.1</td>\n",
       "    </tr>\n",
       "    <tr>\n",
       "      <th>...</th>\n",
       "      <td>...</td>\n",
       "      <td>...</td>\n",
       "      <td>...</td>\n",
       "      <td>...</td>\n",
       "      <td>...</td>\n",
       "      <td>...</td>\n",
       "      <td>...</td>\n",
       "    </tr>\n",
       "    <tr>\n",
       "      <th>409</th>\n",
       "      <td>2013.000</td>\n",
       "      <td>13.7</td>\n",
       "      <td>4082.01500</td>\n",
       "      <td>0</td>\n",
       "      <td>24.94155</td>\n",
       "      <td>121.50381</td>\n",
       "      <td>15.4</td>\n",
       "    </tr>\n",
       "    <tr>\n",
       "      <th>410</th>\n",
       "      <td>2012.667</td>\n",
       "      <td>5.6</td>\n",
       "      <td>90.45606</td>\n",
       "      <td>9</td>\n",
       "      <td>24.97433</td>\n",
       "      <td>121.54310</td>\n",
       "      <td>50.0</td>\n",
       "    </tr>\n",
       "    <tr>\n",
       "      <th>411</th>\n",
       "      <td>2013.250</td>\n",
       "      <td>18.8</td>\n",
       "      <td>390.96960</td>\n",
       "      <td>7</td>\n",
       "      <td>24.97923</td>\n",
       "      <td>121.53986</td>\n",
       "      <td>40.6</td>\n",
       "    </tr>\n",
       "    <tr>\n",
       "      <th>412</th>\n",
       "      <td>2013.000</td>\n",
       "      <td>8.1</td>\n",
       "      <td>104.81010</td>\n",
       "      <td>5</td>\n",
       "      <td>24.96674</td>\n",
       "      <td>121.54067</td>\n",
       "      <td>52.5</td>\n",
       "    </tr>\n",
       "    <tr>\n",
       "      <th>413</th>\n",
       "      <td>2013.500</td>\n",
       "      <td>6.5</td>\n",
       "      <td>90.45606</td>\n",
       "      <td>9</td>\n",
       "      <td>24.97433</td>\n",
       "      <td>121.54310</td>\n",
       "      <td>63.9</td>\n",
       "    </tr>\n",
       "  </tbody>\n",
       "</table>\n",
       "<p>414 rows × 7 columns</p>\n",
       "</div>"
      ],
      "text/plain": [
       "     transaction_date  house_age  distance_to_the_nearest_MRT_station  \\\n",
       "0            2012.917       32.0                             84.87882   \n",
       "1            2012.917       19.5                            306.59470   \n",
       "2            2013.583       13.3                            561.98450   \n",
       "3            2013.500       13.3                            561.98450   \n",
       "4            2012.833        5.0                            390.56840   \n",
       "..                ...        ...                                  ...   \n",
       "409          2013.000       13.7                           4082.01500   \n",
       "410          2012.667        5.6                             90.45606   \n",
       "411          2013.250       18.8                            390.96960   \n",
       "412          2013.000        8.1                            104.81010   \n",
       "413          2013.500        6.5                             90.45606   \n",
       "\n",
       "     number_of_convenience_stores  latitude  longitude  \\\n",
       "0                              10  24.98298  121.54024   \n",
       "1                               9  24.98034  121.53951   \n",
       "2                               5  24.98746  121.54391   \n",
       "3                               5  24.98746  121.54391   \n",
       "4                               5  24.97937  121.54245   \n",
       "..                            ...       ...        ...   \n",
       "409                             0  24.94155  121.50381   \n",
       "410                             9  24.97433  121.54310   \n",
       "411                             7  24.97923  121.53986   \n",
       "412                             5  24.96674  121.54067   \n",
       "413                             9  24.97433  121.54310   \n",
       "\n",
       "     house_price_of_unit_area  \n",
       "0                        37.9  \n",
       "1                        42.2  \n",
       "2                        47.3  \n",
       "3                        54.8  \n",
       "4                        43.1  \n",
       "..                        ...  \n",
       "409                      15.4  \n",
       "410                      50.0  \n",
       "411                      40.6  \n",
       "412                      52.5  \n",
       "413                      63.9  \n",
       "\n",
       "[414 rows x 7 columns]"
      ]
     },
     "execution_count": 10,
     "metadata": {},
     "output_type": "execute_result"
    }
   ],
   "source": [
    "new_df"
   ]
  },
  {
   "cell_type": "markdown",
   "id": "0a507c0f",
   "metadata": {},
   "source": [
    "##### Handling Outliers:"
   ]
  },
  {
   "cell_type": "markdown",
   "id": "7e5b356d",
   "metadata": {},
   "source": [
    "##### 1] transaction date:"
   ]
  },
  {
   "cell_type": "code",
   "execution_count": 11,
   "id": "75293f65",
   "metadata": {},
   "outputs": [
    {
     "data": {
      "text/plain": [
       "<AxesSubplot: xlabel='transaction_date'>"
      ]
     },
     "execution_count": 11,
     "metadata": {},
     "output_type": "execute_result"
    },
    {
     "data": {
      "image/png": "[encoded data removed]",
      "text/plain": [
       "<Figure size 432x288 with 1 Axes>"
      ]
     },
     "metadata": {
      "needs_background": "light"
     },
     "output_type": "display_data"
    }
   ],
   "source": [
    "sns.boxplot(x = new_df['transaction_date'])"
   ]
  },
  {
   "cell_type": "markdown",
   "id": "ec77a80c",
   "metadata": {},
   "source": [
    "##### 2] house age:"
   ]
  },
  {
   "cell_type": "code",
   "execution_count": 12,
   "id": "97575e8b",
   "metadata": {},
   "outputs": [
    {
     "data": {
      "text/plain": [
       "<AxesSubplot: xlabel='house_age'>"
      ]
     },
     "execution_count": 12,
     "metadata": {},
     "output_type": "execute_result"
    },
    {
     "data": {
      "image/png": "[encoded data removed]",
      "text/plain": [
       "<Figure size 432x288 with 1 Axes>"
      ]
     },
     "metadata": {
      "needs_background": "light"
     },
     "output_type": "display_data"
    }
   ],
   "source": [
    "sns.boxplot(x = new_df['house_age'])"
   ]
  },
  {
   "cell_type": "markdown",
   "id": "5293edc8",
   "metadata": {},
   "source": [
    "##### 3] distance to the nearest MRT station:"
   ]
  },
  {
   "cell_type": "code",
   "execution_count": 13,
   "id": "ea2cf491",
   "metadata": {},
   "outputs": [
    {
     "data": {
      "text/plain": [
       "<AxesSubplot: xlabel='distance_to_the_nearest_MRT_station'>"
      ]
     },
     "execution_count": 13,
     "metadata": {},
     "output_type": "execute_result"
    },
    {
     "data": {
      "image/png": "[encoded data removed]",
      "text/plain": [
       "<Figure size 432x288 with 1 Axes>"
      ]
     },
     "metadata": {
      "needs_background": "light"
     },
     "output_type": "display_data"
    }
   ],
   "source": [
    "sns.boxplot(x = new_df['distance_to_the_nearest_MRT_station'])"
   ]
  },
  {
   "cell_type": "code",
   "execution_count": 14,
   "id": "ea7546c5",
   "metadata": {},
   "outputs": [
    {
     "data": {
      "text/plain": [
       "<AxesSubplot: xlabel='distance_to_the_nearest_MRT_station'>"
      ]
     },
     "execution_count": 14,
     "metadata": {},
     "output_type": "execute_result"
    },
    {
     "data": {
      "image/png": "[encoded data removed]",
      "text/plain": [
       "<Figure size 432x288 with 1 Axes>"
      ]
     },
     "metadata": {
      "needs_background": "light"
     },
     "output_type": "display_data"
    }
   ],
   "source": [
    "sns.boxplot(x = np.log(new_df['distance_to_the_nearest_MRT_station']))"
   ]
  },
  {
   "cell_type": "code",
   "execution_count": 15,
   "id": "c1fde1c3",
   "metadata": {},
   "outputs": [],
   "source": [
    "new_df['distance_to_the_nearest_MRT_station'] = np.log(new_df['distance_to_the_nearest_MRT_station'])"
   ]
  },
  {
   "cell_type": "code",
   "execution_count": 16,
   "id": "19d3c9ee",
   "metadata": {},
   "outputs": [
    {
     "data": {
      "text/plain": [
       "<AxesSubplot: xlabel='distance_to_the_nearest_MRT_station'>"
      ]
     },
     "execution_count": 16,
     "metadata": {},
     "output_type": "execute_result"
    },
    {
     "data": {
      "image/png": "[encoded data removed]",
      "text/plain": [
       "<Figure size 432x288 with 1 Axes>"
      ]
     },
     "metadata": {
      "needs_background": "light"
     },
     "output_type": "display_data"
    }
   ],
   "source": [
    "sns.boxplot(x = new_df['distance_to_the_nearest_MRT_station'])"
   ]
  },
  {
   "cell_type": "markdown",
   "id": "4995f76a",
   "metadata": {},
   "source": [
    "##### 4] number of convenience stores:"
   ]
  },
  {
   "cell_type": "code",
   "execution_count": 17,
   "id": "751a374e",
   "metadata": {},
   "outputs": [
    {
     "data": {
      "text/plain": [
       "<AxesSubplot: xlabel='number_of_convenience_stores'>"
      ]
     },
     "execution_count": 17,
     "metadata": {},
     "output_type": "execute_result"
    },
    {
     "data": {
      "image/png": "[encoded data removed]",
      "text/plain": [
       "<Figure size 432x288 with 1 Axes>"
      ]
     },
     "metadata": {
      "needs_background": "light"
     },
     "output_type": "display_data"
    }
   ],
   "source": [
    "sns.boxplot(x = new_df['number_of_convenience_stores'])"
   ]
  },
  {
   "cell_type": "markdown",
   "id": "a64f202d",
   "metadata": {},
   "source": [
    "##### 5] latitude:"
   ]
  },
  {
   "cell_type": "code",
   "execution_count": 18,
   "id": "5e5e4512",
   "metadata": {},
   "outputs": [
    {
     "data": {
      "text/plain": [
       "<AxesSubplot: xlabel='latitude'>"
      ]
     },
     "execution_count": 18,
     "metadata": {},
     "output_type": "execute_result"
    },
    {
     "data": {
      "image/png": "[encoded data removed]",
      "text/plain": [
       "<Figure size 432x288 with 1 Axes>"
      ]
     },
     "metadata": {
      "needs_background": "light"
     },
     "output_type": "display_data"
    }
   ],
   "source": [
    "sns.boxplot(x = new_df['latitude'])"
   ]
  },
  {
   "cell_type": "markdown",
   "id": "2b79a556",
   "metadata": {},
   "source": [
    "##### 6] longitude:"
   ]
  },
  {
   "cell_type": "code",
   "execution_count": 19,
   "id": "dd8513b6",
   "metadata": {},
   "outputs": [
    {
     "data": {
      "text/plain": [
       "<AxesSubplot: xlabel='longitude'>"
      ]
     },
     "execution_count": 19,
     "metadata": {},
     "output_type": "execute_result"
    },
    {
     "data": {
      "image/png": "[encoded data removed]",
      "text/plain": [
       "<Figure size 432x288 with 1 Axes>"
      ]
     },
     "metadata": {
      "needs_background": "light"
     },
     "output_type": "display_data"
    }
   ],
   "source": [
    "sns.boxplot(x = new_df['longitude'])"
   ]
  },
  {
   "cell_type": "code",
   "execution_count": 20,
   "id": "fe22efee",
   "metadata": {},
   "outputs": [
    {
     "name": "stdout",
     "output_type": "stream",
     "text": [
      "Lower_Tail: 121.505255\n",
      "Upper_Tail: 121.566135\n"
     ]
    }
   ],
   "source": [
    "Q1 = new_df['longitude'].quantile(0.25)\n",
    "Q3 = new_df['longitude'].quantile(0.75)\n",
    "\n",
    "IQR = Q3 - Q1\n",
    "\n",
    "lower_tail = Q1 - 1.5*IQR\n",
    "upper_tail = Q3 + 1.5*IQR\n",
    "print(\"Lower_Tail:\",lower_tail)\n",
    "print(\"Upper_Tail:\",upper_tail)"
   ]
  },
  {
   "cell_type": "code",
   "execution_count": 21,
   "id": "406df68d",
   "metadata": {},
   "outputs": [],
   "source": [
    "new_df['longitude'] = np.where(new_df['longitude'] <= lower_tail,lower_tail,new_df['longitude'])"
   ]
  },
  {
   "cell_type": "code",
   "execution_count": 22,
   "id": "3dbe5265",
   "metadata": {},
   "outputs": [
    {
     "data": {
      "text/plain": [
       "<AxesSubplot: xlabel='longitude'>"
      ]
     },
     "execution_count": 22,
     "metadata": {},
     "output_type": "execute_result"
    },
    {
     "data": {
      "image/png": "[encoded data removed]",
      "text/plain": [
       "<Figure size 432x288 with 1 Axes>"
      ]
     },
     "metadata": {
      "needs_background": "light"
     },
     "output_type": "display_data"
    }
   ],
   "source": [
    "sns.boxplot(x = new_df['longitude'])"
   ]
  },
  {
   "cell_type": "code",
   "execution_count": null,
   "id": "dbc4c41f",
   "metadata": {},
   "outputs": [],
   "source": []
  },
  {
   "cell_type": "markdown",
   "id": "c94907f4",
   "metadata": {},
   "source": [
    "##### 7] house price of unit area:"
   ]
  },
  {
   "cell_type": "code",
   "execution_count": 23,
   "id": "2f1a9972",
   "metadata": {},
   "outputs": [
    {
     "data": {
      "text/plain": [
       "<AxesSubplot: xlabel='house_price_of_unit_area'>"
      ]
     },
     "execution_count": 23,
     "metadata": {},
     "output_type": "execute_result"
    },
    {
     "data": {
      "image/png": "[encoded data removed]",
      "text/plain": [
       "<Figure size 432x288 with 1 Axes>"
      ]
     },
     "metadata": {
      "needs_background": "light"
     },
     "output_type": "display_data"
    }
   ],
   "source": [
    "sns.boxplot(x = new_df['house_price_of_unit_area'])"
   ]
  },
  {
   "cell_type": "markdown",
   "id": "48bb9dcf",
   "metadata": {},
   "source": [
    "# 5] Feature Selection:"
   ]
  },
  {
   "cell_type": "markdown",
   "id": "ef8af9bc",
   "metadata": {},
   "source": [
    "##### 5.1] Linearity:"
   ]
  },
  {
   "cell_type": "code",
   "execution_count": 24,
   "id": "6df34fc7",
   "metadata": {},
   "outputs": [
    {
     "data": {
      "text/plain": [
       "<AxesSubplot: >"
      ]
     },
     "execution_count": 24,
     "metadata": {},
     "output_type": "execute_result"
    },
    {
     "data": {
      "image/png": "[encoded data removed]",
      "text/plain": [
       "<Figure size 864x72 with 2 Axes>"
      ]
     },
     "metadata": {
      "needs_background": "light"
     },
     "output_type": "display_data"
    }
   ],
   "source": [
    "plt.figure(figsize=(12,1))\n",
    "sns.heatmap(new_df.corr().tail(1),annot=True)"
   ]
  },
  {
   "cell_type": "markdown",
   "id": "7a1edb00",
   "metadata": {},
   "source": [
    "##### 5.2] No Multicollinearity:"
   ]
  },
  {
   "cell_type": "code",
   "execution_count": 25,
   "id": "3cde034d",
   "metadata": {},
   "outputs": [
    {
     "name": "stdout",
     "output_type": "stream",
     "text": [
      "VIF for transaction_date: 39400708.03671797\n",
      "VIF for house_age: 3.8627836658182466\n",
      "VIF for distance_to_the_nearest_MRT_station: 114.85436651270467\n",
      "VIF for number_of_convenience_stores: 5.941824924739129\n",
      "VIF for latitude: 6238818.81990374\n",
      "VIF for longitude: 44414696.18838369\n"
     ]
    }
   ],
   "source": [
    "for i in range(new_df.shape[1]-1):\n",
    "    vif = variance_inflation_factor(new_df,i)\n",
    "    print(f\"VIF for {new_df.columns[i]}:\",vif)"
   ]
  },
  {
   "cell_type": "markdown",
   "id": "969ccce6",
   "metadata": {},
   "source": [
    "# 6] Model Training:"
   ]
  },
  {
   "cell_type": "markdown",
   "id": "6831ce5f",
   "metadata": {},
   "source": [
    "##### Train Test Split:"
   ]
  },
  {
   "cell_type": "code",
   "execution_count": 26,
   "id": "b7c1b8a8",
   "metadata": {},
   "outputs": [],
   "source": [
    "x = new_df.drop('house_price_of_unit_area',axis=1)\n",
    "y = new_df['house_price_of_unit_area']\n",
    "\n",
    "x_train,x_test,y_train,y_test = train_test_split(x,y,test_size=0.33, random_state=10)"
   ]
  },
  {
   "cell_type": "code",
   "execution_count": 27,
   "id": "c93b5f18",
   "metadata": {},
   "outputs": [
    {
     "data": {
      "text/plain": [
       "LinearRegression()"
      ]
     },
     "execution_count": 27,
     "metadata": {},
     "output_type": "execute_result"
    }
   ],
   "source": [
    "lin_reg = LinearRegression()\n",
    "lin_reg.fit(x_train,y_train)"
   ]
  },
  {
   "cell_type": "markdown",
   "id": "0d4d4d96",
   "metadata": {},
   "source": [
    "# 7] Evalution Matrix:"
   ]
  },
  {
   "cell_type": "code",
   "execution_count": 28,
   "id": "fe815fa2",
   "metadata": {},
   "outputs": [
    {
     "name": "stdout",
     "output_type": "stream",
     "text": [
      "Mean Squared Error: 66.17333798032334\n",
      "Root Mean Squared Error: 8.134699624468217\n",
      "Mean Absolute Error: 5.232908587353276\n",
      "R2 Score: 0.6553675924792022\n"
     ]
    }
   ],
   "source": [
    "# Training\n",
    "y_pred_train = lin_reg.predict(x_train)\n",
    "\n",
    "print(\"Mean Squared Error:\",mean_squared_error(y_train,y_pred_train))\n",
    "print(\"Root Mean Squared Error:\",np.sqrt(mean_squared_error(y_train,y_pred_train)))\n",
    "print(\"Mean Absolute Error:\",mean_absolute_error(y_train,y_pred_train))\n",
    "print(\"R2 Score:\",r2_score(y_train,y_pred_train))"
   ]
  },
  {
   "cell_type": "code",
   "execution_count": 29,
   "id": "f5dafc0e",
   "metadata": {
    "scrolled": true
   },
   "outputs": [
    {
     "name": "stdout",
     "output_type": "stream",
     "text": [
      "Mean Squared Error: 61.243550160359796\n",
      "Root Mean Squared Error: 7.825825845261304\n",
      "Mean Absolute Error: 5.260237206484814\n",
      "R2 Score: 0.632146178686326\n"
     ]
    }
   ],
   "source": [
    "#Testing\n",
    "\n",
    "y_pred_test = lin_reg.predict(x_test)\n",
    "\n",
    "print(\"Mean Squared Error:\",mean_squared_error(y_test,y_pred_test))\n",
    "print(\"Root Mean Squared Error:\",np.sqrt(mean_squared_error(y_test,y_pred_test)))\n",
    "print(\"Mean Absolute Error:\",mean_absolute_error(y_test,y_pred_test))\n",
    "print(\"R2 Score:\",r2_score(y_test,y_pred_test))"
   ]
  },
  {
   "cell_type": "markdown",
   "id": "c06726ed",
   "metadata": {},
   "source": [
    "##### 1] Normaliztion:"
   ]
  },
  {
   "cell_type": "code",
   "execution_count": 30,
   "id": "34b11e06",
   "metadata": {},
   "outputs": [
    {
     "data": {
      "text/html": [
       "<div>\n",
       "<style scoped>\n",
       "    .dataframe tbody tr th:only-of-type {\n",
       "        vertical-align: middle;\n",
       "    }\n",
       "\n",
       "    .dataframe tbody tr th {\n",
       "        vertical-align: top;\n",
       "    }\n",
       "\n",
       "    .dataframe thead th {\n",
       "        text-align: right;\n",
       "    }\n",
       "</style>\n",
       "<table border=\"1\" class=\"dataframe\">\n",
       "  <thead>\n",
       "    <tr style=\"text-align: right;\">\n",
       "      <th></th>\n",
       "      <th>transaction_date</th>\n",
       "      <th>house_age</th>\n",
       "      <th>distance_to_the_nearest_MRT_station</th>\n",
       "      <th>number_of_convenience_stores</th>\n",
       "      <th>latitude</th>\n",
       "      <th>longitude</th>\n",
       "    </tr>\n",
       "  </thead>\n",
       "  <tbody>\n",
       "    <tr>\n",
       "      <th>0</th>\n",
       "      <td>0.272926</td>\n",
       "      <td>0.730594</td>\n",
       "      <td>0.229166</td>\n",
       "      <td>1.0</td>\n",
       "      <td>0.616941</td>\n",
       "      <td>0.573384</td>\n",
       "    </tr>\n",
       "    <tr>\n",
       "      <th>1</th>\n",
       "      <td>0.272926</td>\n",
       "      <td>0.445205</td>\n",
       "      <td>0.457458</td>\n",
       "      <td>0.9</td>\n",
       "      <td>0.584949</td>\n",
       "      <td>0.561419</td>\n",
       "    </tr>\n",
       "    <tr>\n",
       "      <th>2</th>\n",
       "      <td>1.000000</td>\n",
       "      <td>0.303653</td>\n",
       "      <td>0.565168</td>\n",
       "      <td>0.5</td>\n",
       "      <td>0.671231</td>\n",
       "      <td>0.633533</td>\n",
       "    </tr>\n",
       "    <tr>\n",
       "      <th>3</th>\n",
       "      <td>0.909389</td>\n",
       "      <td>0.303653</td>\n",
       "      <td>0.565168</td>\n",
       "      <td>0.5</td>\n",
       "      <td>0.671231</td>\n",
       "      <td>0.633533</td>\n",
       "    </tr>\n",
       "    <tr>\n",
       "      <th>4</th>\n",
       "      <td>0.181223</td>\n",
       "      <td>0.114155</td>\n",
       "      <td>0.500488</td>\n",
       "      <td>0.5</td>\n",
       "      <td>0.573194</td>\n",
       "      <td>0.609604</td>\n",
       "    </tr>\n",
       "    <tr>\n",
       "      <th>...</th>\n",
       "      <td>...</td>\n",
       "      <td>...</td>\n",
       "      <td>...</td>\n",
       "      <td>...</td>\n",
       "      <td>...</td>\n",
       "      <td>...</td>\n",
       "    </tr>\n",
       "    <tr>\n",
       "      <th>409</th>\n",
       "      <td>0.363537</td>\n",
       "      <td>0.312785</td>\n",
       "      <td>0.917634</td>\n",
       "      <td>0.0</td>\n",
       "      <td>0.114881</td>\n",
       "      <td>0.000000</td>\n",
       "    </tr>\n",
       "    <tr>\n",
       "      <th>410</th>\n",
       "      <td>0.000000</td>\n",
       "      <td>0.127854</td>\n",
       "      <td>0.240478</td>\n",
       "      <td>0.9</td>\n",
       "      <td>0.512118</td>\n",
       "      <td>0.620257</td>\n",
       "    </tr>\n",
       "    <tr>\n",
       "      <th>411</th>\n",
       "      <td>0.636463</td>\n",
       "      <td>0.429224</td>\n",
       "      <td>0.500671</td>\n",
       "      <td>0.7</td>\n",
       "      <td>0.571498</td>\n",
       "      <td>0.567156</td>\n",
       "    </tr>\n",
       "    <tr>\n",
       "      <th>412</th>\n",
       "      <td>0.363537</td>\n",
       "      <td>0.184932</td>\n",
       "      <td>0.266659</td>\n",
       "      <td>0.5</td>\n",
       "      <td>0.420141</td>\n",
       "      <td>0.580431</td>\n",
       "    </tr>\n",
       "    <tr>\n",
       "      <th>413</th>\n",
       "      <td>0.909389</td>\n",
       "      <td>0.148402</td>\n",
       "      <td>0.240478</td>\n",
       "      <td>0.9</td>\n",
       "      <td>0.512118</td>\n",
       "      <td>0.620257</td>\n",
       "    </tr>\n",
       "  </tbody>\n",
       "</table>\n",
       "<p>414 rows × 6 columns</p>\n",
       "</div>"
      ],
      "text/plain": [
       "     transaction_date  house_age  distance_to_the_nearest_MRT_station  \\\n",
       "0            0.272926   0.730594                             0.229166   \n",
       "1            0.272926   0.445205                             0.457458   \n",
       "2            1.000000   0.303653                             0.565168   \n",
       "3            0.909389   0.303653                             0.565168   \n",
       "4            0.181223   0.114155                             0.500488   \n",
       "..                ...        ...                                  ...   \n",
       "409          0.363537   0.312785                             0.917634   \n",
       "410          0.000000   0.127854                             0.240478   \n",
       "411          0.636463   0.429224                             0.500671   \n",
       "412          0.363537   0.184932                             0.266659   \n",
       "413          0.909389   0.148402                             0.240478   \n",
       "\n",
       "     number_of_convenience_stores  latitude  longitude  \n",
       "0                             1.0  0.616941   0.573384  \n",
       "1                             0.9  0.584949   0.561419  \n",
       "2                             0.5  0.671231   0.633533  \n",
       "3                             0.5  0.671231   0.633533  \n",
       "4                             0.5  0.573194   0.609604  \n",
       "..                            ...       ...        ...  \n",
       "409                           0.0  0.114881   0.000000  \n",
       "410                           0.9  0.512118   0.620257  \n",
       "411                           0.7  0.571498   0.567156  \n",
       "412                           0.5  0.420141   0.580431  \n",
       "413                           0.9  0.512118   0.620257  \n",
       "\n",
       "[414 rows x 6 columns]"
      ]
     },
     "execution_count": 30,
     "metadata": {},
     "output_type": "execute_result"
    }
   ],
   "source": [
    "normal = MinMaxScaler()\n",
    "arr1 = normal.fit_transform(x)\n",
    "normal_xdf = pd.DataFrame(arr1, columns=x.columns)\n",
    "normal_xdf"
   ]
  },
  {
   "cell_type": "code",
   "execution_count": 31,
   "id": "6d0c9ca2",
   "metadata": {},
   "outputs": [],
   "source": [
    "x_train,x_test,y_train,y_test = train_test_split(normal_xdf,y,test_size=0.33, random_state=10)"
   ]
  },
  {
   "cell_type": "code",
   "execution_count": 32,
   "id": "85661e09",
   "metadata": {},
   "outputs": [
    {
     "name": "stdout",
     "output_type": "stream",
     "text": [
      "Mean Squared Error: 66.17333798032746\n",
      "Root Mean Squared Error: 8.13469962446847\n",
      "Mean Absolute Error: 5.2329085873534655\n",
      "R2 Score: 0.6553675924791806\n",
      "**************************************************\n",
      "Mean Squared Error: 61.24355016036605\n",
      "Root Mean Squared Error: 7.825825845261703\n",
      "Mean Absolute Error: 5.260237206485526\n",
      "R2 Score: 0.6321461786862885\n"
     ]
    }
   ],
   "source": [
    "lin_reg = LinearRegression()\n",
    "lin_reg.fit(x_train,y_train)\n",
    "\n",
    "# Training\n",
    "y_pred_train = lin_reg.predict(x_train)\n",
    "\n",
    "print(\"Mean Squared Error:\",mean_squared_error(y_train,y_pred_train))\n",
    "print(\"Root Mean Squared Error:\",np.sqrt(mean_squared_error(y_train,y_pred_train)))\n",
    "print(\"Mean Absolute Error:\",mean_absolute_error(y_train,y_pred_train))\n",
    "print(\"R2 Score:\",r2_score(y_train,y_pred_train))\n",
    "print(\"*\"*50)\n",
    "#Testing\n",
    "\n",
    "y_pred_test = lin_reg.predict(x_test)\n",
    "\n",
    "print(\"Mean Squared Error:\",mean_squared_error(y_test,y_pred_test))\n",
    "print(\"Root Mean Squared Error:\",np.sqrt(mean_squared_error(y_test,y_pred_test)))\n",
    "print(\"Mean Absolute Error:\",mean_absolute_error(y_test,y_pred_test))\n",
    "print(\"R2 Score:\",r2_score(y_test,y_pred_test))"
   ]
  },
  {
   "cell_type": "code",
   "execution_count": 33,
   "id": "d16d3bed",
   "metadata": {},
   "outputs": [
    {
     "name": "stdout",
     "output_type": "stream",
     "text": [
      "Mean Squared Error: 50.23634512635379\n",
      "Root Mean Squared Error: 7.087760233413218\n",
      "Mean Absolute Error: 4.65797833935018\n",
      "R2 Score: 0.7383678518516166\n",
      "**************************************************\n",
      "Mean Squared Error: 59.45276496350366\n",
      "Root Mean Squared Error: 7.710561909712136\n",
      "Mean Absolute Error: 5.5655474452554765\n",
      "R2 Score: 0.6429023673150164\n"
     ]
    }
   ],
   "source": [
    "knn_reg = KNeighborsRegressor()\n",
    "knn_reg.fit(x_train,y_train)\n",
    "\n",
    "# Training\n",
    "y_pred_train = knn_reg.predict(x_train)\n",
    "\n",
    "print(\"Mean Squared Error:\",mean_squared_error(y_train,y_pred_train))\n",
    "print(\"Root Mean Squared Error:\",np.sqrt(mean_squared_error(y_train,y_pred_train)))\n",
    "print(\"Mean Absolute Error:\",mean_absolute_error(y_train,y_pred_train))\n",
    "print(\"R2 Score:\",r2_score(y_train,y_pred_train))\n",
    "print(\"*\"*50)\n",
    "#Testing\n",
    "\n",
    "y_pred_test = knn_reg.predict(x_test)\n",
    "\n",
    "print(\"Mean Squared Error:\",mean_squared_error(y_test,y_pred_test))\n",
    "print(\"Root Mean Squared Error:\",np.sqrt(mean_squared_error(y_test,y_pred_test)))\n",
    "print(\"Mean Absolute Error:\",mean_absolute_error(y_test,y_pred_test))\n",
    "print(\"R2 Score:\",r2_score(y_test,y_pred_test))"
   ]
  },
  {
   "cell_type": "code",
   "execution_count": 34,
   "id": "43df4bdf",
   "metadata": {},
   "outputs": [
    {
     "data": {
      "text/plain": [
       "KNeighborsRegressor(n_neighbors=13, p=1)"
      ]
     },
     "execution_count": 34,
     "metadata": {},
     "output_type": "execute_result"
    }
   ],
   "source": [
    "knn_reg_mdl = KNeighborsRegressor()\n",
    "hyperparameter = {'n_neighbors':np.arange(3,21),\n",
    "                  'p':[1,2]}\n",
    "gscv = GridSearchCV(knn_reg_mdl,hyperparameter,cv=5)\n",
    "gscv.fit(x_train,y_train)\n",
    "gscv.best_estimator_"
   ]
  },
  {
   "cell_type": "code",
   "execution_count": 35,
   "id": "5302c6ea",
   "metadata": {},
   "outputs": [
    {
     "name": "stdout",
     "output_type": "stream",
     "text": [
      "Mean Squared Error: 58.76941127464594\n",
      "Root Mean Squared Error: 7.666121005739861\n",
      "Mean Absolute Error: 4.770091641210775\n",
      "R2 Score: 0.6939274288659334\n",
      "**************************************************\n",
      "Mean Squared Error: 57.59727378741417\n",
      "Root Mean Squared Error: 7.589286777254775\n",
      "Mean Absolute Error: 5.292756878158338\n",
      "R2 Score: 0.6540472065307565\n"
     ]
    }
   ],
   "source": [
    "knn_reg_mdl = KNeighborsRegressor(n_neighbors=13, p=1)\n",
    "knn_reg_mdl.fit(x_train,y_train)\n",
    "\n",
    "# Training\n",
    "y_pred_train = knn_reg_mdl.predict(x_train)\n",
    "\n",
    "print(\"Mean Squared Error:\",mean_squared_error(y_train,y_pred_train))\n",
    "print(\"Root Mean Squared Error:\",np.sqrt(mean_squared_error(y_train,y_pred_train)))\n",
    "print(\"Mean Absolute Error:\",mean_absolute_error(y_train,y_pred_train))\n",
    "print(\"R2 Score:\",r2_score(y_train,y_pred_train))\n",
    "print(\"*\"*50)\n",
    "#Testing\n",
    "\n",
    "y_pred_test = knn_reg_mdl.predict(x_test)\n",
    "\n",
    "print(\"Mean Squared Error:\",mean_squared_error(y_test,y_pred_test))\n",
    "print(\"Root Mean Squared Error:\",np.sqrt(mean_squared_error(y_test,y_pred_test)))\n",
    "print(\"Mean Absolute Error:\",mean_absolute_error(y_test,y_pred_test))\n",
    "print(\"R2 Score:\",r2_score(y_test,y_pred_test))"
   ]
  },
  {
   "cell_type": "markdown",
   "id": "c4b73a8a",
   "metadata": {},
   "source": [
    "##### 2] Standrediztion:"
   ]
  },
  {
   "cell_type": "code",
   "execution_count": 36,
   "id": "13806209",
   "metadata": {},
   "outputs": [
    {
     "data": {
      "text/html": [
       "<div>\n",
       "<style scoped>\n",
       "    .dataframe tbody tr th:only-of-type {\n",
       "        vertical-align: middle;\n",
       "    }\n",
       "\n",
       "    .dataframe tbody tr th {\n",
       "        vertical-align: top;\n",
       "    }\n",
       "\n",
       "    .dataframe thead th {\n",
       "        text-align: right;\n",
       "    }\n",
       "</style>\n",
       "<table border=\"1\" class=\"dataframe\">\n",
       "  <thead>\n",
       "    <tr style=\"text-align: right;\">\n",
       "      <th></th>\n",
       "      <th>transaction_date</th>\n",
       "      <th>house_age</th>\n",
       "      <th>distance_to_the_nearest_MRT_station</th>\n",
       "      <th>number_of_convenience_stores</th>\n",
       "      <th>latitude</th>\n",
       "      <th>longitude</th>\n",
       "    </tr>\n",
       "  </thead>\n",
       "  <tbody>\n",
       "    <tr>\n",
       "      <th>0</th>\n",
       "      <td>-0.823683</td>\n",
       "      <td>1.255628</td>\n",
       "      <td>-1.744066</td>\n",
       "      <td>2.007407</td>\n",
       "      <td>1.125430</td>\n",
       "      <td>0.455200</td>\n",
       "    </tr>\n",
       "    <tr>\n",
       "      <th>1</th>\n",
       "      <td>-0.823683</td>\n",
       "      <td>0.157086</td>\n",
       "      <td>-0.595682</td>\n",
       "      <td>1.667503</td>\n",
       "      <td>0.912444</td>\n",
       "      <td>0.402164</td>\n",
       "    </tr>\n",
       "    <tr>\n",
       "      <th>2</th>\n",
       "      <td>1.541151</td>\n",
       "      <td>-0.387791</td>\n",
       "      <td>-0.053862</td>\n",
       "      <td>0.307885</td>\n",
       "      <td>1.486860</td>\n",
       "      <td>0.721833</td>\n",
       "    </tr>\n",
       "    <tr>\n",
       "      <th>3</th>\n",
       "      <td>1.246435</td>\n",
       "      <td>-0.387791</td>\n",
       "      <td>-0.053862</td>\n",
       "      <td>0.307885</td>\n",
       "      <td>1.486860</td>\n",
       "      <td>0.721833</td>\n",
       "    </tr>\n",
       "    <tr>\n",
       "      <th>4</th>\n",
       "      <td>-1.121951</td>\n",
       "      <td>-1.117223</td>\n",
       "      <td>-0.379225</td>\n",
       "      <td>0.307885</td>\n",
       "      <td>0.834188</td>\n",
       "      <td>0.615761</td>\n",
       "    </tr>\n",
       "    <tr>\n",
       "      <th>...</th>\n",
       "      <td>...</td>\n",
       "      <td>...</td>\n",
       "      <td>...</td>\n",
       "      <td>...</td>\n",
       "      <td>...</td>\n",
       "      <td>...</td>\n",
       "    </tr>\n",
       "    <tr>\n",
       "      <th>409</th>\n",
       "      <td>-0.528967</td>\n",
       "      <td>-0.352637</td>\n",
       "      <td>1.719160</td>\n",
       "      <td>-1.391638</td>\n",
       "      <td>-2.216993</td>\n",
       "      <td>-2.086536</td>\n",
       "    </tr>\n",
       "    <tr>\n",
       "      <th>410</th>\n",
       "      <td>-1.711384</td>\n",
       "      <td>-1.064493</td>\n",
       "      <td>-1.687161</td>\n",
       "      <td>1.667503</td>\n",
       "      <td>0.427579</td>\n",
       "      <td>0.662985</td>\n",
       "    </tr>\n",
       "    <tr>\n",
       "      <th>411</th>\n",
       "      <td>0.358734</td>\n",
       "      <td>0.095568</td>\n",
       "      <td>-0.378307</td>\n",
       "      <td>0.987694</td>\n",
       "      <td>0.822893</td>\n",
       "      <td>0.427592</td>\n",
       "    </tr>\n",
       "    <tr>\n",
       "      <th>412</th>\n",
       "      <td>-0.528967</td>\n",
       "      <td>-0.844784</td>\n",
       "      <td>-1.555462</td>\n",
       "      <td>0.307885</td>\n",
       "      <td>-0.184755</td>\n",
       "      <td>0.486440</td>\n",
       "    </tr>\n",
       "    <tr>\n",
       "      <th>413</th>\n",
       "      <td>1.246435</td>\n",
       "      <td>-0.985398</td>\n",
       "      <td>-1.687161</td>\n",
       "      <td>1.667503</td>\n",
       "      <td>0.427579</td>\n",
       "      <td>0.662985</td>\n",
       "    </tr>\n",
       "  </tbody>\n",
       "</table>\n",
       "<p>414 rows × 6 columns</p>\n",
       "</div>"
      ],
      "text/plain": [
       "     transaction_date  house_age  distance_to_the_nearest_MRT_station  \\\n",
       "0           -0.823683   1.255628                            -1.744066   \n",
       "1           -0.823683   0.157086                            -0.595682   \n",
       "2            1.541151  -0.387791                            -0.053862   \n",
       "3            1.246435  -0.387791                            -0.053862   \n",
       "4           -1.121951  -1.117223                            -0.379225   \n",
       "..                ...        ...                                  ...   \n",
       "409         -0.528967  -0.352637                             1.719160   \n",
       "410         -1.711384  -1.064493                            -1.687161   \n",
       "411          0.358734   0.095568                            -0.378307   \n",
       "412         -0.528967  -0.844784                            -1.555462   \n",
       "413          1.246435  -0.985398                            -1.687161   \n",
       "\n",
       "     number_of_convenience_stores  latitude  longitude  \n",
       "0                        2.007407  1.125430   0.455200  \n",
       "1                        1.667503  0.912444   0.402164  \n",
       "2                        0.307885  1.486860   0.721833  \n",
       "3                        0.307885  1.486860   0.721833  \n",
       "4                        0.307885  0.834188   0.615761  \n",
       "..                            ...       ...        ...  \n",
       "409                     -1.391638 -2.216993  -2.086536  \n",
       "410                      1.667503  0.427579   0.662985  \n",
       "411                      0.987694  0.822893   0.427592  \n",
       "412                      0.307885 -0.184755   0.486440  \n",
       "413                      1.667503  0.427579   0.662985  \n",
       "\n",
       "[414 rows x 6 columns]"
      ]
     },
     "execution_count": 36,
     "metadata": {},
     "output_type": "execute_result"
    }
   ],
   "source": [
    "std = StandardScaler()\n",
    "arr2 = std.fit_transform(x)\n",
    "std_xdf = pd.DataFrame(arr2, columns=x.columns)\n",
    "std_xdf"
   ]
  },
  {
   "cell_type": "code",
   "execution_count": 37,
   "id": "86c85def",
   "metadata": {},
   "outputs": [],
   "source": [
    "x_train,x_test,y_train,y_test = train_test_split(std_xdf,y,test_size=0.33, random_state=10)"
   ]
  },
  {
   "cell_type": "code",
   "execution_count": 38,
   "id": "8edeb20d",
   "metadata": {},
   "outputs": [
    {
     "name": "stdout",
     "output_type": "stream",
     "text": [
      "Mean Squared Error: 57.796797470788036\n",
      "Root Mean Squared Error: 7.602420500787104\n",
      "Mean Absolute Error: 4.744348792002222\n",
      "R2 Score: 0.6989928260038438\n",
      "**************************************************\n",
      "Mean Squared Error: 55.94647475489137\n",
      "Root Mean Squared Error: 7.479737612703494\n",
      "Mean Absolute Error: 5.286412128017967\n",
      "R2 Score: 0.6639625809782599\n"
     ]
    }
   ],
   "source": [
    "knn_reg_mdl = KNeighborsRegressor(n_neighbors=13, p=1)\n",
    "knn_reg_mdl.fit(x_train,y_train)\n",
    "\n",
    "# Training\n",
    "y_pred_train = knn_reg_mdl.predict(x_train)\n",
    "\n",
    "print(\"Mean Squared Error:\",mean_squared_error(y_train,y_pred_train))\n",
    "print(\"Root Mean Squared Error:\",np.sqrt(mean_squared_error(y_train,y_pred_train)))\n",
    "print(\"Mean Absolute Error:\",mean_absolute_error(y_train,y_pred_train))\n",
    "print(\"R2 Score:\",r2_score(y_train,y_pred_train))\n",
    "print(\"*\"*50)\n",
    "#Testing\n",
    "\n",
    "y_pred_test = knn_reg_mdl.predict(x_test)\n",
    "\n",
    "print(\"Mean Squared Error:\",mean_squared_error(y_test,y_pred_test))\n",
    "print(\"Root Mean Squared Error:\",np.sqrt(mean_squared_error(y_test,y_pred_test)))\n",
    "print(\"Mean Absolute Error:\",mean_absolute_error(y_test,y_pred_test))\n",
    "print(\"R2 Score:\",r2_score(y_test,y_pred_test))"
   ]
  },
  {
   "cell_type": "code",
   "execution_count": null,
   "id": "4872bd89",
   "metadata": {},
   "outputs": [],
   "source": []
  },
  {
   "cell_type": "code",
   "execution_count": null,
   "id": "efae3093",
   "metadata": {},
   "outputs": [],
   "source": []
  },
  {
   "cell_type": "markdown",
   "id": "88d8ec4a",
   "metadata": {},
   "source": [
    "# 8] Framework Development:"
   ]
  },
  {
   "cell_type": "code",
   "execution_count": 39,
   "id": "5a4067d8",
   "metadata": {},
   "outputs": [
    {
     "data": {
      "text/html": [
       "<div>\n",
       "<style scoped>\n",
       "    .dataframe tbody tr th:only-of-type {\n",
       "        vertical-align: middle;\n",
       "    }\n",
       "\n",
       "    .dataframe tbody tr th {\n",
       "        vertical-align: top;\n",
       "    }\n",
       "\n",
       "    .dataframe thead th {\n",
       "        text-align: right;\n",
       "    }\n",
       "</style>\n",
       "<table border=\"1\" class=\"dataframe\">\n",
       "  <thead>\n",
       "    <tr style=\"text-align: right;\">\n",
       "      <th></th>\n",
       "      <th>0</th>\n",
       "    </tr>\n",
       "  </thead>\n",
       "  <tbody>\n",
       "    <tr>\n",
       "      <th>transaction_date</th>\n",
       "      <td>2012.917000</td>\n",
       "    </tr>\n",
       "    <tr>\n",
       "      <th>house_age</th>\n",
       "      <td>32.000000</td>\n",
       "    </tr>\n",
       "    <tr>\n",
       "      <th>distance_to_the_nearest_MRT_station</th>\n",
       "      <td>4.441225</td>\n",
       "    </tr>\n",
       "    <tr>\n",
       "      <th>number_of_convenience_stores</th>\n",
       "      <td>10.000000</td>\n",
       "    </tr>\n",
       "    <tr>\n",
       "      <th>latitude</th>\n",
       "      <td>24.982980</td>\n",
       "    </tr>\n",
       "    <tr>\n",
       "      <th>longitude</th>\n",
       "      <td>121.540240</td>\n",
       "    </tr>\n",
       "    <tr>\n",
       "      <th>house_price_of_unit_area</th>\n",
       "      <td>37.900000</td>\n",
       "    </tr>\n",
       "  </tbody>\n",
       "</table>\n",
       "</div>"
      ],
      "text/plain": [
       "                                               0\n",
       "transaction_date                     2012.917000\n",
       "house_age                              32.000000\n",
       "distance_to_the_nearest_MRT_station     4.441225\n",
       "number_of_convenience_stores           10.000000\n",
       "latitude                               24.982980\n",
       "longitude                             121.540240\n",
       "house_price_of_unit_area               37.900000"
      ]
     },
     "execution_count": 39,
     "metadata": {},
     "output_type": "execute_result"
    }
   ],
   "source": [
    "new_df.head(1).T"
   ]
  },
  {
   "cell_type": "code",
   "execution_count": 54,
   "id": "0b00646e",
   "metadata": {},
   "outputs": [
    {
     "name": "stdout",
     "output_type": "stream",
     "text": [
      "[[ 2.5349345   0.15981735 -0.32916923  0.546      -4.29314106  7.88961731]]\n",
      "The House Price Is '40.15'Rs. Per Unit Area.\n"
     ]
    }
   ],
   "source": [
    "import warnings\n",
    "warnings.filterwarnings('ignore')\n",
    "\n",
    "transaction_date = 2014.989\n",
    "house_age = 7.000000\n",
    "distance_to_the_nearest_MRT_station = 3.67\n",
    "number_of_convenience_stores = 5.46\n",
    "latitude = 24.5778\n",
    "longitude = 121.98664\n",
    "\n",
    "test_array = np.zeros(len(lin_reg.coef_))\n",
    "test_array[0] = transaction_date\n",
    "test_array[1] = house_age\n",
    "test_array[2] = np.log(distance_to_the_nearest_MRT_station)\n",
    "test_array[3] = number_of_convenience_stores\n",
    "test_array[4] = latitude\n",
    "test_array[5] = longitude\n",
    "\n",
    "inputs = normal.transform([test_array])\n",
    "print(inputs)\n",
    "\n",
    "def get_prediction(x):\n",
    "    prediction = np.around(knn_reg_mdl.predict(x)[0],2)\n",
    "    print(f\"The House Price Is '{prediction}'Rs. Per Unit Area.\")\n",
    "get_prediction(inputs)"
   ]
  },
  {
   "cell_type": "code",
   "execution_count": 41,
   "id": "6324b5c9",
   "metadata": {},
   "outputs": [],
   "source": [
    "import pickle\n",
    "\n",
    "with open('knnmodel.pkl','wb') as f:\n",
    "    pickle.dump(knn_reg_mdl,f)"
   ]
  },
  {
   "cell_type": "code",
   "execution_count": 42,
   "id": "5d613e7b",
   "metadata": {},
   "outputs": [],
   "source": [
    "with open('sacler.pkl','wb') as f:\n",
    "    pickle.dump(normal,f)"
   ]
  },
  {
   "cell_type": "code",
   "execution_count": 43,
   "id": "ff2d1e2f",
   "metadata": {},
   "outputs": [
    {
     "data": {
      "text/plain": [
       "6"
      ]
     },
     "execution_count": 43,
     "metadata": {},
     "output_type": "execute_result"
    }
   ],
   "source": [
    "len(knn_reg_mdl.feature_names_in_)"
   ]
  },
  {
   "cell_type": "code",
   "execution_count": null,
   "id": "6335e179",
   "metadata": {},
   "outputs": [],
   "source": []
  },
  {
   "cell_type": "code",
   "execution_count": null,
   "id": "e928e9d0",
   "metadata": {},
   "outputs": [],
   "source": []
  }
 ],
 "metadata": {
  "kernelspec": {
   "display_name": "Python 3 (ipykernel)",
   "language": "python",
   "name": "python3"
  },
  "language_info": {
   "codemirror_mode": {
    "name": "ipython",
    "version": 3
   },
   "file_extension": ".py",
   "mimetype": "text/x-python",
   "name": "python",
   "nbconvert_exporter": "python",
   "pygments_lexer": "ipython3",
   "version": "3.9.12"
  }
 },
 "nbformat": 4,
 "nbformat_minor": 5
}
